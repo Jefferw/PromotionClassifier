{
 "cells": [
  {
   "cell_type": "code",
   "execution_count": 1,
   "id": "c07221e8",
   "metadata": {},
   "outputs": [],
   "source": [
    "import pandas as pd\n",
    "import numpy as np\n",
    "import matplotlib.pyplot as plt\n",
    "from sklearn.linear_model import LogisticRegression\n",
    "from sklearn.neighbors import KNeighborsClassifier\n",
    "from sklearn.model_selection import cross_val_score \n",
    "from sklearn.metrics import accuracy_score\n",
    "from sklearn.model_selection import train_test_split\n",
    "from imblearn.over_sampling import SMOTE\n",
    "from sklearn.decomposition import PCA\n",
    "from sklearn.preprocessing import MinMaxScaler\n",
    "from sklearn.tree import DecisionTreeClassifier\n",
    "from sklearn.metrics import f1_score\n",
    "from sklearn.metrics import roc_auc_score\n",
    "\n",
    "\n",
    "\n",
    "#import minor and major regions\n",
    "df = pd.concat(\n",
    "    map(pd.read_csv, ['LCSA2022Summer.csv', 'LCKCL2022Summer.csv', 'LFL2022Summer.csv']), ignore_index=True)\n",
    "df2 = pd.concat(\n",
    "    map(pd.read_csv, ['LCS2023Spring.csv', 'LCK2023Spring.csv', 'LEC2023Winter.csv']), ignore_index=True)\n",
    "\n",
    "#convert % columns to float \n",
    "df = df.replace('%','', regex=True)\n",
    "cols = df.columns.drop(['Player', 'Team', 'Pos'])\n",
    "df[cols] = df[cols].astype(float)\n",
    "\n",
    "#remove players with less than 9 games player\n",
    "df = df[df['GP'] >= 9]\n",
    "df2 = df2[df2['GP'] >= 9]\n",
    "\n",
    "#find intersection (players promoted)\n",
    "int_df = pd.merge(df, df2, how = 'inner', on = ['Player'])\n",
    "\n",
    "#create list of players promoted\n",
    "players = int_df['Player'].values.tolist()\n",
    "\n",
    "#create new column 'Promoted', set to no\n",
    "df['Promoted'] = 0\n",
    "#set promoted to yes if in intersection list\n",
    "df['Promoted'] = np.where(df['Player'].isin(players), 1, 0)\n",
    "df = df.drop(columns=['Player', 'Team', 'Pos'])"
   ]
  },
  {
   "cell_type": "code",
   "execution_count": 2,
   "id": "58b8d379",
   "metadata": {},
   "outputs": [],
   "source": [
    "#split testing and training data\n",
    "y_col = 'Promoted'\n",
    "x_cols = df.loc[:, df.columns != y_col].columns\n",
    "training_x, testing_x, training_y, testing_y = train_test_split(df[x_cols], df[y_col], test_size=0.2, random_state = 42)"
   ]
  },
  {
   "cell_type": "code",
   "execution_count": 3,
   "id": "2f5365ed",
   "metadata": {},
   "outputs": [
    {
     "name": "stdout",
     "output_type": "stream",
     "text": [
      "KNN average accuracy on 10-fold cross validation: 0.8076923076923077\n",
      "[0 0 0 0 0 0 0 0 0 0 0 0 0 0 0 0 0 0 0 0 0 0 0 0 0 0 0 0 0 0 0 0 0 0]\n",
      "KNN accuracy on  test data: 0.8529411764705882\n",
      "KNN f_measure on  test data: 0.0\n",
      "KNN ROC area on  test data: 0.5\n"
     ]
    }
   ],
   "source": [
    "#model without preprocessing\n",
    "k = 4\n",
    "knnMdl = KNeighborsClassifier(n_neighbors=k).fit(training_x, training_y)\n",
    "knnScores = cross_val_score(knnMdl, training_x, training_y, cv=10, scoring='accuracy')\n",
    "print(\"KNN average accuracy on 10-fold cross validation: \" + str(np.mean(knnScores)))\n",
    "knnPredictions = knnMdl.predict(testing_x)\n",
    "print(knnPredictions)\n",
    "knn_acc_raw = accuracy_score(testing_y, knnPredictions)\n",
    "knn_f1_raw = f1_score(testing_y, knnPredictions)\n",
    "knn_roc_raw = roc_auc_score(testing_y, knnPredictions)\n",
    "print(\"KNN accuracy on  test data:\", knn_acc_raw)\n",
    "print(\"KNN f_measure on  test data:\", knn_f1_raw)\n",
    "print(\"KNN ROC area on  test data:\", knn_roc_raw)\n"
   ]
  },
  {
   "cell_type": "code",
   "execution_count": 4,
   "id": "6d2a80ea",
   "metadata": {},
   "outputs": [
    {
     "name": "stdout",
     "output_type": "stream",
     "text": [
      "LR average accuracy on 10-fold cross validation: 0.7857142857142857\n",
      "[0 0 0 1 0 0 0 0 0 0 0 0 0 0 0 0 1 0 0 0 1 0 0 0 0 0 0 0 0 0 0 0 0 0]\n",
      "LR accuracy on  test data: 0.8235294117647058\n",
      "LR f_measure on  test data: 0.25\n",
      "LR ROC area on  test data: 0.5655172413793104\n"
     ]
    }
   ],
   "source": [
    "lrMdl = LogisticRegression(solver= 'liblinear').fit(training_x, training_y)\n",
    "lrScores = cross_val_score(lrMdl, training_x, training_y, cv=10, scoring='accuracy')\n",
    "print(\"LR average accuracy on 10-fold cross validation: \" + str(np.mean(lrScores)))\n",
    "lrPredictions = lrMdl.predict(testing_x)\n",
    "print(lrPredictions)\n",
    "lr_acc_raw = accuracy_score(testing_y, lrPredictions)\n",
    "lr_f1_raw = f1_score(testing_y, lrPredictions)\n",
    "lr_roc_raw = roc_auc_score(testing_y, lrPredictions)\n",
    "print(\"LR accuracy on  test data:\", lr_acc_raw)\n",
    "print(\"LR f_measure on  test data:\", lr_f1_raw)\n",
    "print(\"LR ROC area on  test data:\", lr_roc_raw)\n"
   ]
  },
  {
   "cell_type": "code",
   "execution_count": 5,
   "id": "27a7dff3",
   "metadata": {},
   "outputs": [
    {
     "name": "stdout",
     "output_type": "stream",
     "text": [
      "DT average accuracy on 10-fold cross validation: 0.7428571428571429\n",
      "[0 0 0 1 0 0 0 0 0 0 1 0 0 0 0 1 0 0 0 0 1 0 0 1 0 0 0 0 0 1 0 0 0 0]\n",
      "DT accuracy on  test data: 0.7941176470588235\n",
      "DT f_measure on  test data: 0.3636363636363636\n",
      "DT Roc area on  test data: 0.6310344827586205\n"
     ]
    }
   ],
   "source": [
    "dtMdl = DecisionTreeClassifier().fit(training_x, training_y)\n",
    "dtScores = cross_val_score(dtMdl, training_x, training_y, cv=10, scoring='accuracy')\n",
    "dtPredictions = dtMdl.predict(testing_x)\n",
    "print(\"DT average accuracy on 10-fold cross validation: \" + str(np.mean(dtScores)))\n",
    "print(dtPredictions)\n",
    "dt_acc_raw = accuracy_score(testing_y, dtPredictions)\n",
    "dt_f1_raw = f1_score(testing_y, dtPredictions)\n",
    "dt_roc_raw = roc_auc_score(testing_y, dtPredictions)\n",
    "print(\"DT accuracy on  test data:\", dt_acc_raw)\n",
    "print(\"DT f_measure on  test data:\", dt_f1_raw)\n",
    "print(\"DT Roc area on  test data:\", dt_roc_raw)"
   ]
  },
  {
   "cell_type": "code",
   "execution_count": 6,
   "id": "a52e7bc6",
   "metadata": {},
   "outputs": [],
   "source": [
    "#perform smote\n",
    "y_col = 'Promoted'\n",
    "x_cols = df.loc[:, df.columns != y_col].columns\n",
    "training_x, testing_x, training_y, testing_y = train_test_split(df[x_cols], df[y_col], test_size=0.2, random_state = 42)\n",
    "oversample = SMOTE(random_state = 42)\n",
    "training_x_smote, training_y_smote = oversample.fit_resample(training_x, training_y)"
   ]
  },
  {
   "cell_type": "code",
   "execution_count": 7,
   "id": "7e4d9648",
   "metadata": {},
   "outputs": [
    {
     "name": "stdout",
     "output_type": "stream",
     "text": [
      "KNN average accuracy on 10-fold cross validation: 0.7948616600790512\n",
      "[0 0 0 1 0 0 1 0 0 0 1 0 0 1 1 0 0 1 0 0 1 0 1 0 0 0 0 1 0 1 0 0 0 0]\n",
      "KNN accuracy on  test data: 0.7352941176470589\n",
      "KNN f_measure on  test data: 0.4\n",
      "KNN ROC area on  test data: 0.6793103448275862\n"
     ]
    }
   ],
   "source": [
    "#knn model after Smote\n",
    "knnMdl = KNeighborsClassifier(n_neighbors=k).fit(training_x_smote, training_y_smote)\n",
    "knnScores = cross_val_score(knnMdl, training_x_smote, training_y_smote, cv=10, scoring='accuracy')\n",
    "print(\"KNN average accuracy on 10-fold cross validation: \" + str(np.mean(knnScores)))\n",
    "knnPredictions = knnMdl.predict(testing_x)\n",
    "print(knnPredictions)\n",
    "knn_acc_smote = accuracy_score(testing_y, knnPredictions)\n",
    "knn_f1_smote = f1_score(testing_y, knnPredictions)\n",
    "knn_roc_smote = roc_auc_score(testing_y, knnPredictions)\n",
    "print(\"KNN accuracy on  test data:\", knn_acc_smote)\n",
    "print(\"KNN f_measure on  test data:\", knn_f1_smote)\n",
    "print(\"KNN ROC area on  test data:\", knn_roc_smote)"
   ]
  },
  {
   "cell_type": "code",
   "execution_count": 8,
   "id": "2f83f844",
   "metadata": {},
   "outputs": [
    {
     "name": "stdout",
     "output_type": "stream",
     "text": [
      "LR average accuracy on 10-fold cross validation: 0.7444664031620554\n",
      "[0 0 0 1 0 0 1 0 0 0 0 0 1 0 0 0 1 0 1 0 1 0 0 1 0 0 0 1 0 0 0 0 0 0]\n",
      "LR accuracy on  test data: 0.7941176470588235\n",
      "LR f_measure on  test data: 0.4615384615384615\n",
      "LR ROC area on  test data: 0.7137931034482758\n"
     ]
    }
   ],
   "source": [
    "#lr model results after SMOTE\n",
    "lrMdl = LogisticRegression(solver= 'liblinear').fit(training_x_smote, training_y_smote)\n",
    "lrScores = cross_val_score(lrMdl, training_x_smote, training_y_smote, cv=10, scoring='accuracy')\n",
    "print(\"LR average accuracy on 10-fold cross validation: \" + str(np.mean(lrScores)))\n",
    "lrPredictions = lrMdl.predict(testing_x)\n",
    "print(lrPredictions)\n",
    "lr_acc_smote = accuracy_score(testing_y, lrPredictions)\n",
    "lr_f1_smote = f1_score(testing_y, lrPredictions)\n",
    "lr_roc_smote = roc_auc_score(testing_y, lrPredictions)\n",
    "print(\"LR accuracy on  test data:\", lr_acc_smote)\n",
    "print(\"LR f_measure on  test data:\", lr_f1_smote)\n",
    "print(\"LR ROC area on  test data:\", lr_roc_smote)"
   ]
  },
  {
   "cell_type": "code",
   "execution_count": 9,
   "id": "05119308",
   "metadata": {},
   "outputs": [
    {
     "name": "stdout",
     "output_type": "stream",
     "text": [
      "DT average accuracy on 10-fold cross validation: 0.808102766798419\n",
      "[0 0 0 0 0 0 1 0 0 0 1 0 0 0 1 0 0 0 1 0 0 0 0 0 0 0 0 1 1 0 0 1 0 0]\n",
      "DT accuracy on  test data: 0.7058823529411765\n",
      "DT f_measure on  test data: 0.16666666666666666\n",
      "DT ROC area on  test data: 0.496551724137931\n"
     ]
    }
   ],
   "source": [
    "dtMdl = DecisionTreeClassifier().fit(training_x_smote, training_y_smote)\n",
    "dtScores = cross_val_score(dtMdl, training_x_smote, training_y_smote, cv=10, scoring='accuracy')\n",
    "dtPredictions = dtMdl.predict(testing_x)\n",
    "print(\"DT average accuracy on 10-fold cross validation: \" + str(np.mean(dtScores)))\n",
    "print(dtPredictions)\n",
    "dt_acc_smote = accuracy_score(testing_y, dtPredictions)\n",
    "dt_f1_smote = f1_score(testing_y, dtPredictions)\n",
    "dt_roc_smote = roc_auc_score(testing_y, dtPredictions)\n",
    "print(\"DT accuracy on  test data:\", dt_acc_smote)\n",
    "print(\"DT f_measure on  test data:\", dt_f1_smote)\n",
    "print(\"DT ROC area on  test data:\", dt_roc_smote)"
   ]
  },
  {
   "cell_type": "code",
   "execution_count": 10,
   "id": "3d49c024",
   "metadata": {},
   "outputs": [
    {
     "name": "stdout",
     "output_type": "stream",
     "text": [
      "[0.53001439 0.15128679 0.06401031 0.05853438 0.04513438]\n"
     ]
    }
   ],
   "source": [
    "#scale data\n",
    "scaler = MinMaxScaler()\n",
    "dfcolumns = list(df.columns.values)\n",
    "df_scaled = scaler.fit_transform(df)\n",
    "df = pd.DataFrame(df_scaled, columns = dfcolumns)\n",
    "y_col = 'Promoted'\n",
    "x_cols = df.loc[:, df.columns != y_col].columns\n",
    "\n",
    "#split data\n",
    "training_x, testing_x, training_y, testing_y = train_test_split(df[x_cols], df[y_col], test_size=0.2, random_state = 42)\n",
    "\n",
    "#perform PCA\n",
    "pca = PCA(n_components=5)\n",
    "training_x_pca = pca.fit_transform(training_x)\n",
    "testing_x_pca = pca.transform(testing_x)\n",
    "oversample = SMOTE(random_state = 42)\n",
    "\n",
    "#oversample via SMOTE\n",
    "training_x_pca_smote, training_y_pca_smote = oversample.fit_resample(training_x_pca, training_y)\n",
    "explained_variance = pca.explained_variance_ratio_\n",
    "#component variance\n",
    "print(explained_variance)"
   ]
  },
  {
   "cell_type": "code",
   "execution_count": 11,
   "id": "412fff4a",
   "metadata": {},
   "outputs": [
    {
     "name": "stdout",
     "output_type": "stream",
     "text": [
      "KNN average accuracy on 10-fold cross validation: 0.7988142292490119\n",
      "[1 0 0 0 0 0 1 0 0 0 1 0 0 0 0 0 0 1 0 0 1 0 0 0 0 0 0 1 1 0 0 0 0 0]\n",
      "KNN accuracy on  test data: 0.7647058823529411\n",
      "KNN f_measure on  test data: 0.3333333333333333\n",
      "KNN ROC area on  test data: 0.6137931034482758\n"
     ]
    }
   ],
   "source": [
    "#knn model after PCA and Smote\n",
    "knnMdl = KNeighborsClassifier(n_neighbors=k).fit(training_x_pca_smote, training_y_smote)\n",
    "knnScores = cross_val_score(knnMdl, training_x_pca_smote, training_y_smote, cv=10, scoring='accuracy')\n",
    "print(\"KNN average accuracy on 10-fold cross validation: \" + str(np.mean(knnScores)))\n",
    "knnPredictions = knnMdl.predict(testing_x_pca)\n",
    "print(knnPredictions)\n",
    "knn_acc_smote_pca = accuracy_score(testing_y, knnPredictions)\n",
    "knn_f1_smote_pca = f1_score(testing_y, knnPredictions)\n",
    "knn_roc_smote_pca = roc_auc_score(testing_y, knnPredictions)\n",
    "print(\"KNN accuracy on  test data:\", knn_acc_smote_pca)\n",
    "print(\"KNN f_measure on  test data:\", knn_f1_smote_pca)\n",
    "print(\"KNN ROC area on  test data:\", knn_roc_smote_pca)"
   ]
  },
  {
   "cell_type": "code",
   "execution_count": 12,
   "id": "2e73f916",
   "metadata": {},
   "outputs": [
    {
     "name": "stdout",
     "output_type": "stream",
     "text": [
      "LR average accuracy on 10-fold cross validation: 0.682608695652174\n",
      "[1 0 0 1 0 0 1 0 0 0 1 0 0 1 0 0 0 1 1 0 1 0 0 1 0 0 0 1 1 0 0 0 0 0]\n",
      "LR accuracy on  test data: 0.7647058823529411\n",
      "LR f_measure on  test data: 0.5000000000000001\n",
      "LR ROC area on  test data: 0.7793103448275862\n"
     ]
    }
   ],
   "source": [
    "#lr model after PCA and SMOTE\n",
    "lrMdl = LogisticRegression(solver= 'liblinear').fit(training_x_pca_smote, training_y_smote)\n",
    "lrScores = cross_val_score(lrMdl, training_x_pca_smote, training_y_smote, cv=10, scoring='accuracy')\n",
    "print(\"LR average accuracy on 10-fold cross validation: \" + str(np.mean(lrScores)))\n",
    "lrPredictions = lrMdl.predict(testing_x_pca)\n",
    "print(lrPredictions)\n",
    "lr_acc_smote_pca = accuracy_score(testing_y, lrPredictions)\n",
    "lr_f1_smote_pca = f1_score(testing_y, lrPredictions)\n",
    "lr_roc_smote_pca = roc_auc_score(testing_y, lrPredictions)\n",
    "print(\"LR accuracy on  test data:\", lr_acc_smote_pca)\n",
    "print(\"LR f_measure on  test data:\", lr_f1_smote_pca)\n",
    "print(\"LR ROC area on  test data:\", lr_roc_smote_pca)"
   ]
  },
  {
   "cell_type": "code",
   "execution_count": 13,
   "id": "8b523482",
   "metadata": {},
   "outputs": [
    {
     "name": "stdout",
     "output_type": "stream",
     "text": [
      "DT average accuracy on 10-fold cross validation: 0.7452569169960473\n",
      "[1 0 0 1 0 0 1 0 0 0 0 0 0 0 0 0 0 0 0 1 1 0 0 0 0 0 0 0 1 0 0 0 0 0]\n",
      "DT accuracy on  test data: 0.7352941176470589\n",
      "DT f_measure on  test data: 0.1818181818181818\n",
      "DT ROC area on  test data: 0.5137931034482759\n"
     ]
    }
   ],
   "source": [
    "dtMdl = DecisionTreeClassifier().fit(training_x_pca_smote, training_y_smote)\n",
    "dtScores = cross_val_score(dtMdl, training_x_pca_smote, training_y_smote, cv=10, scoring='accuracy')\n",
    "dtPredictions = dtMdl.predict(testing_x_pca)\n",
    "print(\"DT average accuracy on 10-fold cross validation: \" + str(np.mean(dtScores)))\n",
    "print(dtPredictions)\n",
    "dt_acc_smote_pca = accuracy_score(testing_y, dtPredictions)\n",
    "dt_f1_smote_pca = f1_score(testing_y, dtPredictions)\n",
    "dt_roc_smote_pca = roc_auc_score(testing_y, dtPredictions)\n",
    "print(\"DT accuracy on  test data:\", dt_acc_smote_pca)\n",
    "print(\"DT f_measure on  test data:\", dt_f1_smote_pca)\n",
    "print(\"DT ROC area on  test data:\", dt_roc_smote_pca)"
   ]
  },
  {
   "cell_type": "markdown",
   "id": "4983f854",
   "metadata": {},
   "source": [
    "Algorithm Comparision\n",
    "\n",
    "--------------------------------------------------------------------\n",
    "\n",
    "NO PREPROCESSING\n",
    "\n",
    "KNN average accuracy on 10-fold cross validation: 0.8076923076923077\n",
    "[0 0 0 0 0 0 0 0 0 0 0 0 0 0 0 0 0 0 0 0 0 0 0 0 0 0 0 0 0 0 0 0 0 0]\n",
    "KNN accuracy on  test data: 0.8529411764705882\n",
    "\n",
    "LR average accuracy on 10-fold cross validation: 0.7857142857142857\n",
    "[0 0 0 1 0 0 0 0 0 0 0 0 0 0 0 0 1 0 0 0 1 0 0 0 0 0 0 0 0 0 0 0 0 0]\n",
    "LR accuracy on  test data: 0.8235294117647058\n",
    "\n",
    "---------------------------------------------------------------------\n",
    "\n",
    "SMOTE NO PCA\n",
    "\n",
    "KNN average accuracy on 10-fold cross validation: 0.7948616600790512\n",
    "[0 0 0 1 0 0 1 0 0 0 1 0 0 1 1 0 0 1 0 0 1 0 1 0 0 0 0 1 0 1 0 0 0 0]\n",
    "KNN accuracy on  test data: 0.7352941176470589\n",
    "\n",
    "LR average accuracy on 10-fold cross validation: 0.7444664031620554\n",
    "[0 0 0 1 0 0 1 0 0 0 0 0 1 0 0 0 1 0 1 0 1 0 0 1 0 0 0 1 0 0 0 0 0 0]\n",
    "LR accuracy on  test data: 0.7941176470588235\n",
    "\n",
    "---------------------------------------------------------------------\n",
    "\n",
    "SMOTE WITH PCA\n",
    "\n",
    "KNN average accuracy on 10-fold cross validation: 0.7988142292490119\n",
    "[1 0 0 0 0 0 1 0 0 0 1 0 0 0 0 0 0 1 0 0 1 0 0 0 0 0 0 1 1 0 0 0 0 0]\n",
    "KNN accuracy on  test data: 0.7647058823529411\n",
    "\n",
    "LR average accuracy on 10-fold cross validation: 0.682608695652174\n",
    "[1 0 0 1 0 0 1 0 0 0 1 0 0 1 0 0 0 1 1 0 1 0 0 1 0 0 0 1 1 0 0 0 0 0]\n",
    "LR accuracy on  test data: 0.7647058823529411\n",
    "\n",
    "\n",
    "--------------------------------------------------------------------\n",
    "\n",
    "conclusions:\n",
    "smote required to make valid predictions due to unbalanced classes\n",
    "KNN performs better with PCA, but LR performs worse\n",
    "however with PCA both perform the same\n",
    "\n",
    "PCA gives consistant predictions between the two algos"
   ]
  },
  {
   "cell_type": "code",
   "execution_count": 14,
   "id": "3315c71d",
   "metadata": {},
   "outputs": [
    {
     "data": {
      "image/png": "[encoded data removed]",
      "text/plain": [
       "<Figure size 640x480 with 1 Axes>"
      ]
     },
     "metadata": {},
     "output_type": "display_data"
    }
   ],
   "source": [
    "#draw charts with metrics, raw data\n",
    "N = 3\n",
    "ind = np.arange(N) \n",
    "width = 0.25\n",
    "  \n",
    "xvals = [knn_acc_raw, lr_acc_raw, dt_acc_raw]\n",
    "bar1 = plt.bar(ind, xvals, width, color = 'r')\n",
    "  \n",
    "yvals = [knn_f1_raw, lr_f1_raw, dt_f1_raw]\n",
    "bar2 = plt.bar(ind+width, yvals, width, color='g')\n",
    "  \n",
    "zvals = [knn_roc_raw, lr_roc_raw, dt_roc_raw]\n",
    "bar3 = plt.bar(ind+width*2, zvals, width, color = 'b')\n",
    "  \n",
    "plt.xlabel('Metrics')\n",
    "plt.ylabel('Values')\n",
    "plt.title(\"Metrics Without Pre-Processing\")\n",
    "  \n",
    "plt.xticks(ind+width,['KNN', 'LR', 'DT'])\n",
    "plt.legend( (bar1, bar2, bar3), ('Accurary', 'F1 Score', 'ROC AUC') )\n",
    "plt.show()"
   ]
  },
  {
   "cell_type": "code",
   "execution_count": 15,
   "id": "5a623535",
   "metadata": {},
   "outputs": [
    {
     "data": {
      "image/png": "[encoded data removed]",
      "text/plain": [
       "<Figure size 640x480 with 1 Axes>"
      ]
     },
     "metadata": {},
     "output_type": "display_data"
    }
   ],
   "source": [
    "N = 3\n",
    "ind = np.arange(N) \n",
    "width = 0.25\n",
    "  \n",
    "xvals = [knn_acc_smote, lr_acc_smote, dt_acc_smote]\n",
    "bar1 = plt.bar(ind, xvals, width, color = 'r')\n",
    "  \n",
    "yvals = [knn_f1_smote, lr_f1_smote, dt_f1_smote]\n",
    "bar2 = plt.bar(ind+width, yvals, width, color='g')\n",
    "  \n",
    "zvals = [knn_roc_smote, lr_roc_smote, dt_roc_smote]\n",
    "bar3 = plt.bar(ind+width*2, zvals, width, color = 'b')\n",
    "  \n",
    "plt.xlabel('Metrics')\n",
    "plt.ylabel('Values')\n",
    "plt.title(\"Metrics After SMOTE\")\n",
    "  \n",
    "plt.xticks(ind+width,['KNN', 'LR', 'DT'])\n",
    "plt.legend( (bar1, bar2, bar3), ('Accurary', 'F1 Score', 'ROC AUC') )\n",
    "plt.show()"
   ]
  },
  {
   "cell_type": "code",
   "execution_count": 16,
   "id": "41d52dea",
   "metadata": {
    "scrolled": true
   },
   "outputs": [
    {
     "data": {
      "image/png": "[encoded data removed]",
      "text/plain": [
       "<Figure size 640x480 with 1 Axes>"
      ]
     },
     "metadata": {},
     "output_type": "display_data"
    }
   ],
   "source": [
    "N = 3\n",
    "ind = np.arange(N) \n",
    "width = 0.25\n",
    "  \n",
    "xvals = [knn_acc_smote_pca, lr_acc_smote_pca, dt_acc_smote_pca]\n",
    "bar1 = plt.bar(ind, xvals, width, color = 'r')\n",
    "  \n",
    "yvals = [knn_f1_smote_pca, lr_f1_smote_pca, dt_f1_smote_pca]\n",
    "bar2 = plt.bar(ind+width, yvals, width, color='g')\n",
    "  \n",
    "zvals = [knn_roc_smote_pca, lr_roc_smote_pca, dt_roc_smote_pca]\n",
    "bar3 = plt.bar(ind+width*2, zvals, width, color = 'b')\n",
    "  \n",
    "plt.xlabel('Metrics')\n",
    "plt.ylabel('Values')\n",
    "plt.title(\"Metrics After SMOTE and PCA\")\n",
    "  \n",
    "plt.xticks(ind+width,['KNN', 'LR', 'DT'])\n",
    "plt.legend( (bar1, bar2, bar3), ('Accurary', 'F1 Score', 'ROC AUC') )\n",
    "plt.show()"
   ]
  },
  {
   "cell_type": "code",
   "execution_count": 17,
   "id": "60baca99",
   "metadata": {},
   "outputs": [
    {
     "name": "stdout",
     "output_type": "stream",
     "text": [
      "[0.53269619 0.15998769 0.06655798 0.05930242 0.03802557]\n"
     ]
    }
   ],
   "source": [
    "#testing performing smote before PCA\n",
    "training_x_smote, training_y_smote = oversample.fit_resample(training_x, training_y)\n",
    "pca = PCA(n_components=5)\n",
    "training_x_smote_pca = pca.fit_transform(training_x_smote)\n",
    "testing_x_pca = pca.transform(testing_x)\n",
    "\n",
    "explained_variance = pca.explained_variance_ratio_\n",
    "print(explained_variance)"
   ]
  },
  {
   "cell_type": "code",
   "execution_count": 18,
   "id": "2d4f7304",
   "metadata": {},
   "outputs": [
    {
     "name": "stdout",
     "output_type": "stream",
     "text": [
      "KNN average accuracy on 10-fold cross validation: 0.7899209486166008\n",
      "[0. 1. 0. 1. 1. 0. 0. 0. 0. 0. 0. 0. 0. 0. 0. 1. 0. 0. 0. 0. 1. 0. 0. 0.\n",
      " 0. 0. 0. 0. 0. 0. 0. 0. 1. 0.]\n",
      "KNN accuracy on  test data: 0.7352941176470589\n"
     ]
    }
   ],
   "source": [
    "#knn model after smote then PCA\n",
    "k = 4\n",
    "knnMdl = KNeighborsClassifier(n_neighbors=k).fit(training_x_pca_smote, training_y_smote)\n",
    "knnScores = cross_val_score(knnMdl, training_x_smote_pca, training_y_smote, cv=10, scoring='accuracy')\n",
    "print(\"KNN average accuracy on 10-fold cross validation: \" + str(np.mean(knnScores)))\n",
    "knnPredictions = knnMdl.predict(testing_x_pca)\n",
    "print(knnPredictions)\n",
    "print(\"KNN accuracy on  test data:\", accuracy_score(testing_y, knnPredictions))"
   ]
  },
  {
   "cell_type": "markdown",
   "id": "676bd191",
   "metadata": {},
   "source": [
    "no change in results"
   ]
  }
 ],
 "metadata": {
  "kernelspec": {
   "display_name": "Python 3 (ipykernel)",
   "language": "python",
   "name": "python3"
  },
  "language_info": {
   "codemirror_mode": {
    "name": "ipython",
    "version": 3
   },
   "file_extension": ".py",
   "mimetype": "text/x-python",
   "name": "python",
   "nbconvert_exporter": "python",
   "pygments_lexer": "ipython3",
   "version": "3.9.16"
  }
 },
 "nbformat": 4,
 "nbformat_minor": 5
}
