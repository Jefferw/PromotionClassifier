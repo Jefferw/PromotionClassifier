{
 "cells": [
  {
   "cell_type": "code",
   "execution_count": 21,
   "id": "c07221e8",
   "metadata": {},
   "outputs": [],
   "source": [
    "import pandas as pd\n",
    "import numpy as np\n",
    "from sklearn.linear_model import LogisticRegression\n",
    "from sklearn.neighbors import KNeighborsClassifier\n",
    "from sklearn.model_selection import cross_val_score \n",
    "from sklearn.metrics import accuracy_score\n",
    "from sklearn.model_selection import train_test_split\n",
    "from imblearn.over_sampling import SMOTE\n",
    "from sklearn.decomposition import PCA\n",
    "from sklearn.preprocessing import MinMaxScaler\n",
    "\n",
    "\n",
    "\n",
    "#import minor and major regions\n",
    "df = pd.concat(\n",
    "    map(pd.read_csv, ['LCSA2022Summer.csv', 'LCKCL2022Summer.csv', 'LFL2022Summer.csv']), ignore_index=True)\n",
    "df2 = pd.concat(\n",
    "    map(pd.read_csv, ['LCS2023Spring.csv', 'LCK2023Spring.csv', 'LEC2023Winter.csv']), ignore_index=True)\n",
    "\n",
    "#convert % columns to float \n",
    "df = df.replace('%','', regex=True)\n",
    "cols = df.columns.drop(['Player', 'Team', 'Pos'])\n",
    "df[cols] = df[cols].astype(float)\n",
    "\n",
    "#remove players with less than 9 games player\n",
    "df = df[df['GP'] >= 9]\n",
    "df2 = df2[df2['GP'] >= 9]\n",
    "\n",
    "#find intersection (players promoted)\n",
    "int_df = pd.merge(df, df2, how = 'inner', on = ['Player'])\n",
    "\n",
    "#create list of players promoted\n",
    "players = int_df['Player'].values.tolist()\n",
    "\n",
    "#create new column 'Promoted', set to no\n",
    "df['Promoted'] = 0\n",
    "#set promoted to yes if in intersection list\n",
    "df['Promoted'] = np.where(df['Player'].isin(players), 1, 0)\n",
    "df = df.drop(columns=['Player', 'Team', 'Pos'])"
   ]
  },
  {
   "cell_type": "code",
   "execution_count": 22,
   "id": "f08047a4",
   "metadata": {},
   "outputs": [],
   "source": [
    "#split testing and training data\n",
    "y_col = 'Promoted'\n",
    "x_cols = df.loc[:, df.columns != y_col].columns\n",
    "training_x, testing_x, training_y, testing_y = train_test_split(df[x_cols], df[y_col], test_size=0.2, random_state = 42)"
   ]
  },
  {
   "cell_type": "code",
   "execution_count": 26,
   "id": "1de49ae1",
   "metadata": {},
   "outputs": [
    {
     "name": "stdout",
     "output_type": "stream",
     "text": [
      "KNN average accuracy on 10-fold cross validation: 0.7280219780219779\n",
      "[0 0 0 0 0 0 0 0 0 0 1 0 0 0 1 0 0 0 0 0 1 0 1 0 0 0 0 0 0 1 0 0 0 0]\n",
      "KNN accuracy on  test data: 0.7647058823529411\n"
     ]
    }
   ],
   "source": [
    "#model without preprocessing\n",
    "k = 1\n",
    "knnMdl = KNeighborsClassifier(n_neighbors=k).fit(training_x, training_y)\n",
    "knnScores = cross_val_score(knnMdl, training_x, training_y, cv=10, scoring='accuracy')\n",
    "print(\"KNN average accuracy on 10-fold cross validation: \" + str(np.mean(knnScores)))\n",
    "knnPredictions = knnMdl.predict(testing_x)\n",
    "print(knnPredictions)\n",
    "print(\"KNN accuracy on  test data:\", accuracy_score(testing_y, knnPredictions))"
   ]
  },
  {
   "cell_type": "code",
   "execution_count": 24,
   "id": "4a19033e",
   "metadata": {},
   "outputs": [
    {
     "name": "stdout",
     "output_type": "stream",
     "text": [
      "LR average accuracy on 10-fold cross validation: 0.7857142857142857\n",
      "[0 0 0 1 0 0 0 0 0 0 0 0 0 0 0 0 1 0 0 0 1 0 0 0 0 0 0 0 0 0 0 0 0 0]\n",
      "LR accuracy on  test data: 0.8235294117647058\n"
     ]
    }
   ],
   "source": [
    "lrMdl = LogisticRegression(solver= 'liblinear').fit(training_x, training_y)\n",
    "lrScores = cross_val_score(lrMdl, training_x, training_y, cv=10, scoring='accuracy')\n",
    "print(\"LR average accuracy on 10-fold cross validation: \" + str(np.mean(lrScores)))\n",
    "lrPredictions = lrMdl.predict(testing_x)\n",
    "print(lrPredictions)\n",
    "print(\"LR accuracy on  test data:\", accuracy_score(testing_y, lrPredictions))"
   ]
  },
  {
   "cell_type": "code",
   "execution_count": 2,
   "id": "06dd76ee",
   "metadata": {},
   "outputs": [],
   "source": [
    "#perform smote\n",
    "y_col = 'Promoted'\n",
    "x_cols = df.loc[:, df.columns != y_col].columns\n",
    "training_x, testing_x, training_y, testing_y = train_test_split(df[x_cols], df[y_col], test_size=0.2, random_state = 42)\n",
    "oversample = SMOTE(random_state = 42)\n",
    "training_x_smote, training_y_smote = oversample.fit_resample(training_x, training_y)"
   ]
  },
  {
   "cell_type": "code",
   "execution_count": 20,
   "id": "f1df6e80",
   "metadata": {},
   "outputs": [
    {
     "name": "stdout",
     "output_type": "stream",
     "text": [
      "KNN average accuracy on 10-fold cross validation: 0.7581027667984189\n",
      "[1. 1. 1. 1. 1. 1. 1. 1. 1. 1. 1. 1. 0. 1. 1. 0. 1. 1. 1. 1. 1. 1. 1. 1.\n",
      " 1. 1. 1. 1. 1. 1. 0. 1. 1. 1.]\n",
      "KNN accuracy on  test data: 0.23529411764705882\n"
     ]
    }
   ],
   "source": [
    "#knn model after Smote\n",
    "k = 4\n",
    "knnMdl = KNeighborsClassifier(n_neighbors=k).fit(training_x_smote, training_y_smote)\n",
    "knnScores = cross_val_score(knnMdl, training_x_smote, training_y_smote, cv=10, scoring='accuracy')\n",
    "print(\"KNN average accuracy on 10-fold cross validation: \" + str(np.mean(knnScores)))\n",
    "knnPredictions = knnMdl.predict(testing_x)\n",
    "print(knnPredictions)\n",
    "print(\"KNN accuracy on  test data:\", accuracy_score(testing_y, knnPredictions))"
   ]
  },
  {
   "cell_type": "code",
   "execution_count": 4,
   "id": "e97a18a1",
   "metadata": {},
   "outputs": [
    {
     "name": "stdout",
     "output_type": "stream",
     "text": [
      "LR average accuracy on 10-fold cross validation: 0.7444664031620554\n",
      "[0 0 0 1 0 0 1 0 0 0 0 0 1 0 0 0 1 0 1 0 1 0 0 1 0 0 0 1 0 0 0 0 0 0]\n",
      "LR accuracy on  test data: 0.7941176470588235\n"
     ]
    }
   ],
   "source": [
    "#lr model results after SMOTE\n",
    "lrMdl = LogisticRegression(solver= 'liblinear').fit(training_x_smote, training_y_smote)\n",
    "lrScores = cross_val_score(lrMdl, training_x_smote, training_y_smote, cv=10, scoring='accuracy')\n",
    "print(\"LR average accuracy on 10-fold cross validation: \" + str(np.mean(lrScores)))\n",
    "lrPredictions = lrMdl.predict(testing_x)\n",
    "print(lrPredictions)\n",
    "print(\"LR accuracy on  test data:\", accuracy_score(testing_y, lrPredictions))"
   ]
  },
  {
   "cell_type": "code",
   "execution_count": 5,
   "id": "3d49c024",
   "metadata": {},
   "outputs": [
    {
     "name": "stdout",
     "output_type": "stream",
     "text": [
      "[0.53001439 0.15128679 0.06401031 0.05853438 0.04513438]\n"
     ]
    }
   ],
   "source": [
    "#scale data\n",
    "scaler = MinMaxScaler()\n",
    "dfcolumns = list(df.columns.values)\n",
    "df_scaled = scaler.fit_transform(df)\n",
    "df = pd.DataFrame(df_scaled, columns = dfcolumns)\n",
    "y_col = 'Promoted'\n",
    "x_cols = df.loc[:, df.columns != y_col].columns\n",
    "\n",
    "#split data\n",
    "training_x, testing_x, training_y, testing_y = train_test_split(df[x_cols], df[y_col], test_size=0.2, random_state = 42)\n",
    "\n",
    "#perform PCA\n",
    "pca = PCA(n_components=5)\n",
    "training_x_pca = pca.fit_transform(training_x)\n",
    "testing_x_pca = pca.transform(testing_x)\n",
    "oversample = SMOTE(random_state = 42)\n",
    "\n",
    "#oversample via SMOTE\n",
    "training_x_pca_smote, training_y_pca_smote = oversample.fit_resample(training_x_pca, training_y)\n",
    "explained_variance = pca.explained_variance_ratio_\n",
    "#component variance\n",
    "print(explained_variance)"
   ]
  },
  {
   "cell_type": "code",
   "execution_count": 14,
   "id": "412fff4a",
   "metadata": {},
   "outputs": [
    {
     "name": "stdout",
     "output_type": "stream",
     "text": [
      "KNN average accuracy on 10-fold cross validation: 0.7899209486166008\n",
      "[0. 0. 0. 1. 0. 0. 1. 0. 0. 0. 1. 0. 0. 0. 0. 0. 0. 0. 0. 0. 1. 0. 0. 0.\n",
      " 0. 0. 0. 0. 1. 0. 0. 0. 0. 0.]\n",
      "KNN accuracy on  test data: 0.7647058823529411\n"
     ]
    }
   ],
   "source": [
    "#knn model after PCA and Smote\n",
    "k = 4\n",
    "knnMdl = KNeighborsClassifier(n_neighbors=k).fit(training_x_pca_smote, training_y_smote)\n",
    "knnScores = cross_val_score(knnMdl, training_x_pca_smote, training_y_smote, cv=10, scoring='accuracy')\n",
    "print(\"KNN average accuracy on 10-fold cross validation: \" + str(np.mean(knnScores)))\n",
    "knnPredictions = knnMdl.predict(testing_x_pca)\n",
    "print(knnPredictions)\n",
    "print(\"KNN accuracy on  test data:\", accuracy_score(testing_y, knnPredictions))"
   ]
  },
  {
   "cell_type": "code",
   "execution_count": 7,
   "id": "2e73f916",
   "metadata": {},
   "outputs": [
    {
     "name": "stdout",
     "output_type": "stream",
     "text": [
      "LR average accuracy on 10-fold cross validation: 0.682608695652174\n",
      "[1 0 0 1 0 0 1 0 0 0 1 0 0 1 0 0 0 1 1 0 1 0 0 1 0 0 0 1 1 0 0 0 0 0]\n",
      "LR accuracy on  test data: 0.7647058823529411\n"
     ]
    }
   ],
   "source": [
    "#lr model results after oversampling\n",
    "lrMdl = LogisticRegression(solver= 'liblinear').fit(training_x_pca_smote, training_y_smote)\n",
    "lrScores = cross_val_score(lrMdl, training_x_pca_smote, training_y_smote, cv=10, scoring='accuracy')\n",
    "print(\"LR average accuracy on 10-fold cross validation: \" + str(np.mean(lrScores)))\n",
    "lrPredictions = lrMdl.predict(testing_x_pca)\n",
    "print(lrPredictions)\n",
    "print(\"LR accuracy on  test data:\", accuracy_score(testing_y, lrPredictions))"
   ]
  },
  {
   "cell_type": "markdown",
   "id": "de228c74",
   "metadata": {},
   "source": [
    "Algorithm Comparision\n",
    "\n",
    "--------------------------------------------------------------------\n",
    "\n",
    "NO PREPROCESSING\n",
    "\n",
    "KNN average accuracy on 10-fold cross validation: 0.8076923076923077\n",
    "[0 0 0 0 0 0 0 0 0 0 0 0 0 0 0 0 0 0 0 0 0 0 0 0 0 0 0 0 0 0 0 0 0 0]\n",
    "KNN accuracy on  test data: 0.8529411764705882\n",
    "\n",
    "LR average accuracy on 10-fold cross validation: 0.7857142857142857\n",
    "[0 0 0 1 0 0 0 0 0 0 0 0 0 0 0 0 1 0 0 0 1 0 0 0 0 0 0 0 0 0 0 0 0 0]\n",
    "LR accuracy on  test data: 0.8235294117647058\n",
    "\n",
    "---------------------------------------------------------------------\n",
    "\n",
    "SMOTE NO PCA\n",
    "\n",
    "KNN average accuracy on 10-fold cross validation: 0.7948616600790512\n",
    "[0 0 0 1 0 0 1 0 0 0 1 0 0 1 1 0 0 1 0 0 1 0 1 0 0 0 0 1 0 1 0 0 0 0]\n",
    "KNN accuracy on  test data: 0.7352941176470589\n",
    "\n",
    "LR average accuracy on 10-fold cross validation: 0.7444664031620554\n",
    "[0 0 0 1 0 0 1 0 0 0 0 0 1 0 0 0 1 0 1 0 1 0 0 1 0 0 0 1 0 0 0 0 0 0]\n",
    "LR accuracy on  test data: 0.7941176470588235\n",
    "\n",
    "---------------------------------------------------------------------\n",
    "\n",
    "SMOTE WITH PCA\n",
    "\n",
    "KNN average accuracy on 10-fold cross validation: 0.7988142292490119\n",
    "[1 0 0 0 0 0 1 0 0 0 1 0 0 0 0 0 0 1 0 0 1 0 0 0 0 0 0 1 1 0 0 0 0 0]\n",
    "KNN accuracy on  test data: 0.7647058823529411\n",
    "\n",
    "LR average accuracy on 10-fold cross validation: 0.682608695652174\n",
    "[1 0 0 1 0 0 1 0 0 0 1 0 0 1 0 0 0 1 1 0 1 0 0 1 0 0 0 1 1 0 0 0 0 0]\n",
    "LR accuracy on  test data: 0.7647058823529411\n",
    "\n",
    "\n",
    "--------------------------------------------------------------------\n",
    "\n",
    "conclusions:\n",
    "smote required to make valid predictions due to unbalanced classes\n",
    "KNN performs better with PCA, but LR performs worse\n",
    "however with PCA both perform the same\n",
    "\n",
    "PCA gives consistant predictions between the two algos"
   ]
  },
  {
   "cell_type": "code",
   "execution_count": 11,
   "id": "b1e01d5e",
   "metadata": {},
   "outputs": [
    {
     "name": "stdout",
     "output_type": "stream",
     "text": [
      "[0.53269619 0.15998769 0.06655798 0.05930242 0.03802557]\n"
     ]
    }
   ],
   "source": [
    "#testing performing smote before PCA\n",
    "training_x_smote, training_y_smote = oversample.fit_resample(training_x, training_y)\n",
    "pca = PCA(n_components=5)\n",
    "training_x_smote_pca = pca.fit_transform(training_x_smote)\n",
    "testing_x_pca = pca.transform(testing_x)\n",
    "\n",
    "explained_variance = pca.explained_variance_ratio_\n",
    "print(explained_variance)"
   ]
  },
  {
   "cell_type": "code",
   "execution_count": 13,
   "id": "ba84613a",
   "metadata": {},
   "outputs": [
    {
     "name": "stdout",
     "output_type": "stream",
     "text": [
      "KNN average accuracy on 10-fold cross validation: 0.7899209486166008\n",
      "[0. 0. 0. 1. 0. 0. 1. 0. 0. 0. 1. 0. 0. 0. 0. 0. 0. 0. 0. 0. 1. 0. 0. 0.\n",
      " 0. 0. 0. 0. 1. 0. 0. 0. 0. 0.]\n",
      "KNN accuracy on  test data: 0.7647058823529411\n"
     ]
    }
   ],
   "source": [
    "#knn model after smote then PCA\n",
    "k = 4\n",
    "knnMdl = KNeighborsClassifier(n_neighbors=k).fit(training_x_pca_smote, training_y_smote)\n",
    "knnScores = cross_val_score(knnMdl, training_x_smote_pca, training_y_smote, cv=10, scoring='accuracy')\n",
    "print(\"KNN average accuracy on 10-fold cross validation: \" + str(np.mean(knnScores)))\n",
    "knnPredictions = knnMdl.predict(testing_x_pca)\n",
    "print(knnPredictions)\n",
    "print(\"KNN accuracy on  test data:\", accuracy_score(testing_y, knnPredictions))"
   ]
  },
  {
   "cell_type": "markdown",
   "id": "43d66e8a",
   "metadata": {},
   "source": [
    "no change in results"
   ]
  }
 ],
 "metadata": {
  "kernelspec": {
   "display_name": "Python 3 (ipykernel)",
   "language": "python",
   "name": "python3"
  },
  "language_info": {
   "codemirror_mode": {
    "name": "ipython",
    "version": 3
   },
   "file_extension": ".py",
   "mimetype": "text/x-python",
   "name": "python",
   "nbconvert_exporter": "python",
   "pygments_lexer": "ipython3",
   "version": "3.10.9"
  }
 },
 "nbformat": 4,
 "nbformat_minor": 5
}
